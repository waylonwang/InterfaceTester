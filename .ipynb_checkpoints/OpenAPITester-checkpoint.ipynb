{
 "cells": [
  {
   "cell_type": "markdown",
   "metadata": {},
   "source": [
    "### 药企圈OpenAPI接口测试"
   ]
  },
  {
   "cell_type": "markdown",
   "metadata": {},
   "source": [
    "#### 一、环境选择"
   ]
  },
  {
   "cell_type": "code",
   "execution_count": null,
   "metadata": {
    "slideshow": {
     "slide_type": "-"
    }
   },
   "outputs": [],
   "source": [
    "# coding=utf-8\n",
    "import pandas as pd\n",
    "from colorama import Fore,Back,Style\n",
    "from api import servers,interfaces\n",
    "from tester import testers\n",
    "\n",
    "DISPLAY_CHOICE = True\n",
    "\n",
    "if DISPLAY_CHOICE:\n",
    "    df = pd.DataFrame(servers,index=[0])\n",
    "    df = df.T\n",
    "    df.columns=['url']\n",
    "    print(Fore.GREEN+'----------------------------------------\\n',df)\n",
    "    df = pd.DataFrame(testers)\n",
    "    df = df.T\n",
    "    print(Fore.GREEN+'----------------------------------------\\n',df)"
   ]
  },
  {
   "cell_type": "code",
   "execution_count": null,
   "metadata": {
    "slideshow": {
     "slide_type": "-"
    }
   },
   "outputs": [],
   "source": [
    "# --修改下面的名称来选择环境-----------------\n",
    "envcode = 'test'\n",
    "# --修改下面的名称来选择账号-----------------\n",
    "testercode = 'tester01'\n",
    "# ---------------------------------------"
   ]
  },
  {
   "cell_type": "code",
   "execution_count": null,
   "metadata": {
    "slideshow": {
     "slide_type": "-"
    }
   },
   "outputs": [],
   "source": [
    "server = servers[envcode]\n",
    "print(Fore.BLUE+'----------------------------------------\\n当前选择的环境是: %s --> %s' % (envcode,server))\n",
    "tester = testers[testercode]\n",
    "if tester['envcode'] !=envcode: \n",
    "    print(Fore.BLUE+'----------------------------------------\\n当前选择的账号的环境不匹配: %s --> envcode:%s' % (testercode,tester['envcode']))\n",
    "else:\n",
    "    from colorama import Fore\n",
    "    print(Fore.BLUE+'----------------------------------------\\n当前选择的账号是: %s' % testercode)"
   ]
  },
  {
   "cell_type": "markdown",
   "metadata": {},
   "source": [
    "#### 二、接口选择"
   ]
  },
  {
   "cell_type": "code",
   "execution_count": null,
   "metadata": {},
   "outputs": [],
   "source": [
    "if DISPLAY_CHOICE:\n",
    "    print(Fore.GREEN+'----------------------------------------\\n',pd.DataFrame([{'可选择的接口类别':x} for x in interfaces.keys()]))"
   ]
  },
  {
   "cell_type": "code",
   "execution_count": null,
   "metadata": {},
   "outputs": [],
   "source": [
    "# --修改下面的内容来选择接口类别--------------\n",
    "interface_catagory = interfaces['crm_read']\n",
    "# ---------------------------------------"
   ]
  },
  {
   "cell_type": "code",
   "execution_count": null,
   "metadata": {},
   "outputs": [],
   "source": [
    "interface_content = interface_catagory['interface']\n",
    "if DISPLAY_CHOICE:\n",
    "    print(Fore.GREEN+'----------------------------------------\\n',pd.DataFrame([{'可选择的接口':x} for x in interface_catagory['interface']]))"
   ]
  },
  {
   "cell_type": "code",
   "execution_count": null,
   "metadata": {},
   "outputs": [],
   "source": [
    "# --修改下面的内容来选择接口-----------------\n",
    "interface = interface_content['queryHospitalData']\n",
    "# ---------------------------------------"
   ]
  },
  {
   "cell_type": "code",
   "execution_count": null,
   "metadata": {},
   "outputs": [],
   "source": [
    "api_key = interface_catagory['api_key'][envcode]\n",
    "api_secret = interface_catagory['api_secret'][envcode]\n",
    "\n",
    "print(Fore.BLUE+'当前选择的接口是: [%s]\\nurl = %s\\nmethod = %s\\nbody = %s \\noutput = %s \\nkey = %s\\nsecret = %s' \n",
    "      % (interface['desc'],interface['url'],interface['method'],\n",
    "         interface.get('body',False),interface.get('output',[]),\n",
    "         api_key,api_secret))\n",
    "pd.DataFrame(interface['params'],columns=['参数']).head(100)"
   ]
  },
  {
   "cell_type": "markdown",
   "metadata": {},
   "source": [
    "#### 三、输入数据准备"
   ]
  },
  {
   "cell_type": "code",
   "execution_count": null,
   "metadata": {},
   "outputs": [],
   "source": [
    "# 以下统一的参数无须配置:\n",
    "# 1.appkey  2.nonce  3.time  4.sign\n",
    "#\n",
    "# --修改下面的内容来修改其他输入参数---------\n",
    "params = {\n",
    "    'companyId':tester['companyId'],\n",
    "    'timeStamp':0,\n",
    "    'pageIndex':1,\n",
    "    'pageSize':100\n",
    "}\n",
    "# --修改下面的内容来修HTTP BODY参数--------\n",
    "data = {\n",
    "    \n",
    "}"
   ]
  },
  {
   "cell_type": "code",
   "execution_count": null,
   "metadata": {},
   "outputs": [],
   "source": [
    "\n",
    "def generate_nonce(len = 16, lowercase = True, uppercase = False, digits = True) :\n",
    "    import random\n",
    "    import string\n",
    "    random.seed()\n",
    "    chars = ''\n",
    "    if lowercase: chars += string.ascii_lowercase\n",
    "    if uppercase: chars += string.ascii_uppercase\n",
    "    if digits: chars += string.digits\n",
    "    return ''.join([random.choice(chars) for _ in range(len)])\n",
    "\n",
    "def generate_time() :\n",
    "    import time\n",
    "    return int(time.time()*1000)\n",
    "\n",
    "def generate_sign(params,secret):\n",
    "    params_list = [key + '=' + str(value) + '&' for key, value in params.items() if value is not None or str(value) != '' ]\n",
    "    params_list.sort()\n",
    "    params_str = ''.join(params_list)\n",
    "    params_str = params_str + 'key=' + secret\n",
    "    params_str = md5(params_str.encode('utf-8'))\n",
    "    return params_str\n",
    "    \n",
    "def md5(str):\n",
    "    import hashlib\n",
    "    m = hashlib.md5()   \n",
    "    m.update(str)\n",
    "    return m.hexdigest()\n",
    "\n",
    "params['appKey'] = api_key\n",
    "params['nonce'] = generate_nonce()\n",
    "params['time'] = generate_time()\n",
    "params['sign'] = generate_sign(params,api_secret)\n",
    "\n",
    "df=pd.DataFrame(params,index=[0]).T\n",
    "df.columns=['参数值']\n",
    "df.head(100)"
   ]
  },
  {
   "cell_type": "markdown",
   "metadata": {},
   "source": [
    "#### 四、执行接口"
   ]
  },
  {
   "cell_type": "code",
   "execution_count": null,
   "metadata": {},
   "outputs": [],
   "source": [
    "import requests\n",
    "if interface['method'] == 'GET':\n",
    "    r = requests.get('http://' + server + interface['url'],params=params)\n",
    "    print(Fore.BLUE+'[%s请求执行完成] --> %s' % (interface['method'],r.url))\n",
    "elif interface['method'] == 'POST':\n",
    "    if interface.get('body',False):\n",
    "        r = requests.post('http://' + server + interface['url'],params=params,data=data)\n",
    "    else:\n",
    "        r = requests.post('http://' + server + interface['url'],params=params)\n",
    "    print(Fore.BLUE+'[%s请求执行完成] --> %s' % (interface['method'],r.url))\n",
    "else:\n",
    "    print(Fore.BLUE+'[%s接口方法填写错误，请求未执行]' % interface['method'])"
   ]
  },
  {
   "cell_type": "markdown",
   "metadata": {},
   "source": [
    "#### 五、输出数据查询"
   ]
  },
  {
   "cell_type": "code",
   "execution_count": null,
   "metadata": {},
   "outputs": [],
   "source": [
    "import json\n",
    "output = json.loads(r.text)\n",
    "resultCode = output['resultCode']\n",
    "if resultCode == 1:\n",
    "    print(Fore.BLUE+'[请求成功]')\n",
    "    for field in interface['output']:\n",
    "        output = output[field]\n",
    "    df=pd.DataFrame(output)\n",
    "else:\n",
    "    print(Fore.BLUE+output['请求失败：%s' % output['resultMsg']])\n",
    "    pass\n",
    "print(Fore.BLUE+'最前5条数据：')\n",
    "df.head(5)"
   ]
  },
  {
   "cell_type": "code",
   "execution_count": null,
   "metadata": {},
   "outputs": [],
   "source": [
    "if resultCode == 1:\n",
    "    pass\n",
    "print(Fore.BLUE+'最后5条数据：')\n",
    "df.tail(5)"
   ]
  }
 ],
 "metadata": {
  "kernelspec": {
   "display_name": "Python 3",
   "language": "python",
   "name": "python3"
  },
  "language_info": {
   "codemirror_mode": {
    "name": "ipython",
    "version": 3
   },
   "file_extension": ".py",
   "mimetype": "text/x-python",
   "name": "python",
   "nbconvert_exporter": "python",
   "pygments_lexer": "ipython3",
   "version": "3.7.3"
  }
 },
 "nbformat": 4,
 "nbformat_minor": 2
}
