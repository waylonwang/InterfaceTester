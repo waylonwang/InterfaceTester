{
 "cells": [
  {
   "cell_type": "markdown",
   "metadata": {},
   "source": [
    "### 药企圈OpenAPI接口测试"
   ]
  },
  {
   "cell_type": "markdown",
   "metadata": {},
   "source": [
    "#### 一、环境选择"
   ]
  },
  {
   "cell_type": "code",
   "execution_count": 1,
   "metadata": {
    "slideshow": {
     "slide_type": "-"
    }
   },
   "outputs": [
    {
     "name": "stdout",
     "output_type": "stream",
     "text": [
      "\u001b[32m----------------------------------------\n",
      "                          url\n",
      "pre    pre.mediportal.com.cn\n",
      "pro     xg.mediportal.com.cn\n",
      "test  test.mediportal.com.cn\n",
      "\u001b[32m----------------------------------------\n",
      "                          companyId envcode password         user\n",
      "tester01  5799a1a7b522255a923b4716    test   123456  12157573047\n",
      "tester02                              test                      \n"
     ]
    }
   ],
   "source": [
    "# coding=utf-8\n",
    "import pandas as pd\n",
    "from colorama import Fore,Back,Style\n",
    "from api import servers,interfaces\n",
    "from tester import testers\n",
    "\n",
    "DISPLAY_CHOICE = True\n",
    "\n",
    "if DISPLAY_CHOICE:\n",
    "    df = pd.DataFrame(servers,index=[0])\n",
    "    df = df.T\n",
    "    df.columns=['url']\n",
    "    print(Fore.GREEN+'----------------------------------------\\n',df)\n",
    "    df = pd.DataFrame(testers)\n",
    "    df = df.T\n",
    "    print(Fore.GREEN+'----------------------------------------\\n',df)"
   ]
  },
  {
   "cell_type": "code",
   "execution_count": 2,
   "metadata": {
    "slideshow": {
     "slide_type": "-"
    }
   },
   "outputs": [],
   "source": [
    "# --修改下面的名称来选择环境-----------------\n",
    "envcode = 'test'\n",
    "# --修改下面的名称来选择账号-----------------\n",
    "testercode = 'tester01'\n",
    "# ---------------------------------------"
   ]
  },
  {
   "cell_type": "code",
   "execution_count": 3,
   "metadata": {
    "slideshow": {
     "slide_type": "-"
    }
   },
   "outputs": [
    {
     "name": "stdout",
     "output_type": "stream",
     "text": [
      "\u001b[34m----------------------------------------\n",
      "当前选择的环境是: test --> test.mediportal.com.cn\n",
      "\u001b[34m----------------------------------------\n",
      "当前选择的账号是: tester01\n"
     ]
    }
   ],
   "source": [
    "server = servers[envcode]\n",
    "print(Fore.BLUE+'----------------------------------------\\n当前选择的环境是: %s --> %s' % (envcode,server))\n",
    "tester = testers[testercode]\n",
    "if tester['envcode'] !=envcode: \n",
    "    print(Fore.BLUE+'----------------------------------------\\n当前选择的账号的环境不匹配: %s --> envcode:%s' % (testercode,tester['envcode']))\n",
    "else:\n",
    "    from colorama import Fore\n",
    "    print(Fore.BLUE+'----------------------------------------\\n当前选择的账号是: %s' % testercode)"
   ]
  },
  {
   "cell_type": "markdown",
   "metadata": {},
   "source": [
    "#### 二、接口选择"
   ]
  },
  {
   "cell_type": "code",
   "execution_count": 4,
   "metadata": {},
   "outputs": [
    {
     "name": "stdout",
     "output_type": "stream",
     "text": [
      "\u001b[32m----------------------------------------\n",
      "             可选择的接口类别\n",
      "0      basedata_read\n",
      "1  organization_read\n",
      "2           crm_read\n",
      "3          crm_write\n",
      "4          community\n"
     ]
    }
   ],
   "source": [
    "if DISPLAY_CHOICE:\n",
    "    print(Fore.GREEN+'----------------------------------------\\n',pd.DataFrame([{'可选择的接口类别':x} for x in interfaces.keys()]))"
   ]
  },
  {
   "cell_type": "code",
   "execution_count": 5,
   "metadata": {},
   "outputs": [],
   "source": [
    "# --修改下面的内容来选择接口类别--------------\n",
    "interface_catagory = interfaces['crm_read']\n",
    "# ---------------------------------------"
   ]
  },
  {
   "cell_type": "code",
   "execution_count": 6,
   "metadata": {},
   "outputs": [
    {
     "name": "stdout",
     "output_type": "stream",
     "text": [
      "\u001b[32m----------------------------------------\n",
      "                        可选择的接口\n",
      "0           queryHospitalData\n",
      "1    queryCompanyHospitalData\n",
      "2    queryCompanyCustomerData\n",
      "3        queryFriendsByOpenId\n",
      "4    queryFriendsByCustomerId\n",
      "5  queryCustomerLastLoginTime\n"
     ]
    }
   ],
   "source": [
    "interface_content = interface_catagory['interface']\n",
    "if DISPLAY_CHOICE:\n",
    "    print(Fore.GREEN+'----------------------------------------\\n',pd.DataFrame([{'可选择的接口':x} for x in interface_catagory['interface']]))"
   ]
  },
  {
   "cell_type": "code",
   "execution_count": 7,
   "metadata": {},
   "outputs": [],
   "source": [
    "# --修改下面的内容来选择接口-----------------\n",
    "interface = interface_content['queryHospitalData']\n",
    "# ---------------------------------------"
   ]
  },
  {
   "cell_type": "code",
   "execution_count": 8,
   "metadata": {},
   "outputs": [
    {
     "name": "stdout",
     "output_type": "stream",
     "text": [
      "\u001b[34m当前选择的接口是: [查询企业客户数据]\n",
      "url = /open-api/drugorg/crm/open/queryCompanyCustomerData\n",
      "method = GET\n",
      "body = False \n",
      "output = ['data', 'pageData'] \n",
      "key = 3b00bfb4c77b41e9b7d6eec2180855c6\n",
      "secret = f88c8e674995445889613eb9b47fc940fxr7k710\n"
     ]
    },
    {
     "data": {
      "text/html": [
       "<div>\n",
       "<style scoped>\n",
       "    .dataframe tbody tr th:only-of-type {\n",
       "        vertical-align: middle;\n",
       "    }\n",
       "\n",
       "    .dataframe tbody tr th {\n",
       "        vertical-align: top;\n",
       "    }\n",
       "\n",
       "    .dataframe thead th {\n",
       "        text-align: right;\n",
       "    }\n",
       "</style>\n",
       "<table border=\"1\" class=\"dataframe\">\n",
       "  <thead>\n",
       "    <tr style=\"text-align: right;\">\n",
       "      <th></th>\n",
       "      <th>参数</th>\n",
       "    </tr>\n",
       "  </thead>\n",
       "  <tbody>\n",
       "    <tr>\n",
       "      <th>0</th>\n",
       "      <td>appKey</td>\n",
       "    </tr>\n",
       "    <tr>\n",
       "      <th>1</th>\n",
       "      <td>nonce</td>\n",
       "    </tr>\n",
       "    <tr>\n",
       "      <th>2</th>\n",
       "      <td>time</td>\n",
       "    </tr>\n",
       "    <tr>\n",
       "      <th>3</th>\n",
       "      <td>sign</td>\n",
       "    </tr>\n",
       "    <tr>\n",
       "      <th>4</th>\n",
       "      <td>timeStamp</td>\n",
       "    </tr>\n",
       "    <tr>\n",
       "      <th>5</th>\n",
       "      <td>companyId</td>\n",
       "    </tr>\n",
       "    <tr>\n",
       "      <th>6</th>\n",
       "      <td>pageIndex</td>\n",
       "    </tr>\n",
       "    <tr>\n",
       "      <th>7</th>\n",
       "      <td>pageSize</td>\n",
       "    </tr>\n",
       "  </tbody>\n",
       "</table>\n",
       "</div>"
      ],
      "text/plain": [
       "          参数\n",
       "0     appKey\n",
       "1      nonce\n",
       "2       time\n",
       "3       sign\n",
       "4  timeStamp\n",
       "5  companyId\n",
       "6  pageIndex\n",
       "7   pageSize"
      ]
     },
     "execution_count": 8,
     "metadata": {},
     "output_type": "execute_result"
    }
   ],
   "source": [
    "api_key = interface_catagory['api_key'][envcode]\n",
    "api_secret = interface_catagory['api_secret'][envcode]\n",
    "\n",
    "print(Fore.BLUE+'当前选择的接口是: [%s]\\nurl = %s\\nmethod = %s\\nbody = %s \\noutput = %s \\nkey = %s\\nsecret = %s' \n",
    "      % (interface['desc'],interface['url'],interface['method'],\n",
    "         interface.get('body',False),interface.get('output',[]),\n",
    "         api_key,api_secret))\n",
    "pd.DataFrame(interface['params'],columns=['参数']).head(100)"
   ]
  },
  {
   "cell_type": "markdown",
   "metadata": {},
   "source": [
    "#### 三、输入数据准备"
   ]
  },
  {
   "cell_type": "code",
   "execution_count": 9,
   "metadata": {},
   "outputs": [],
   "source": [
    "# 以下统一的参数无须配置:\n",
    "# 1.appkey  2.nonce  3.time  4.sign\n",
    "#\n",
    "# --修改下面的内容来修改其他输入参数---------\n",
    "params = {\n",
    "    'companyId':tester['companyId'],\n",
    "    'timeStamp':0,\n",
    "    'pageIndex':1,\n",
    "    'pageSize':100\n",
    "}\n",
    "# --修改下面的内容来修HTTP BODY参数--------\n",
    "data = {\n",
    "    \n",
    "}"
   ]
  },
  {
   "cell_type": "code",
   "execution_count": 10,
   "metadata": {},
   "outputs": [
    {
     "data": {
      "text/html": [
       "<div>\n",
       "<style scoped>\n",
       "    .dataframe tbody tr th:only-of-type {\n",
       "        vertical-align: middle;\n",
       "    }\n",
       "\n",
       "    .dataframe tbody tr th {\n",
       "        vertical-align: top;\n",
       "    }\n",
       "\n",
       "    .dataframe thead th {\n",
       "        text-align: right;\n",
       "    }\n",
       "</style>\n",
       "<table border=\"1\" class=\"dataframe\">\n",
       "  <thead>\n",
       "    <tr style=\"text-align: right;\">\n",
       "      <th></th>\n",
       "      <th>参数值</th>\n",
       "    </tr>\n",
       "  </thead>\n",
       "  <tbody>\n",
       "    <tr>\n",
       "      <th>appKey</th>\n",
       "      <td>3b00bfb4c77b41e9b7d6eec2180855c6</td>\n",
       "    </tr>\n",
       "    <tr>\n",
       "      <th>companyId</th>\n",
       "      <td>5799a1a7b522255a923b4716</td>\n",
       "    </tr>\n",
       "    <tr>\n",
       "      <th>nonce</th>\n",
       "      <td>cvcw2lw4i726zotl</td>\n",
       "    </tr>\n",
       "    <tr>\n",
       "      <th>pageIndex</th>\n",
       "      <td>1</td>\n",
       "    </tr>\n",
       "    <tr>\n",
       "      <th>pageSize</th>\n",
       "      <td>100</td>\n",
       "    </tr>\n",
       "    <tr>\n",
       "      <th>sign</th>\n",
       "      <td>238543336eb6177f60e54829042a7307</td>\n",
       "    </tr>\n",
       "    <tr>\n",
       "      <th>time</th>\n",
       "      <td>1527520791566</td>\n",
       "    </tr>\n",
       "    <tr>\n",
       "      <th>timeStamp</th>\n",
       "      <td>0</td>\n",
       "    </tr>\n",
       "  </tbody>\n",
       "</table>\n",
       "</div>"
      ],
      "text/plain": [
       "                                        参数值\n",
       "appKey     3b00bfb4c77b41e9b7d6eec2180855c6\n",
       "companyId          5799a1a7b522255a923b4716\n",
       "nonce                      cvcw2lw4i726zotl\n",
       "pageIndex                                 1\n",
       "pageSize                                100\n",
       "sign       238543336eb6177f60e54829042a7307\n",
       "time                          1527520791566\n",
       "timeStamp                                 0"
      ]
     },
     "execution_count": 10,
     "metadata": {},
     "output_type": "execute_result"
    }
   ],
   "source": [
    "\n",
    "def generate_nonce(len = 16, lowercase = True, uppercase = False, digits = True) :\n",
    "    import random\n",
    "    import string\n",
    "    random.seed()\n",
    "    chars = ''\n",
    "    if lowercase: chars += string.ascii_lowercase\n",
    "    if uppercase: chars += string.ascii_uppercase\n",
    "    if digits: chars += string.digits\n",
    "    return ''.join([random.choice(chars) for _ in range(len)])\n",
    "\n",
    "def generate_time() :\n",
    "    import time\n",
    "    return int(time.time()*1000)\n",
    "\n",
    "def generate_sign(params,secret):\n",
    "    params_list = [key + '=' + str(value) + '&' for key, value in params.items() if value is not None or str(value) != '' ]\n",
    "    params_list.sort()\n",
    "    params_str = ''.join(params_list)\n",
    "    params_str = params_str + 'key=' + secret\n",
    "    params_str = md5(params_str.encode('utf-8'))\n",
    "    return params_str\n",
    "    \n",
    "def md5(str):\n",
    "    import hashlib\n",
    "    m = hashlib.md5()   \n",
    "    m.update(str)\n",
    "    return m.hexdigest()\n",
    "\n",
    "params['appKey'] = api_key\n",
    "params['nonce'] = generate_nonce()\n",
    "params['time'] = generate_time()\n",
    "params['sign'] = generate_sign(params,api_secret)\n",
    "\n",
    "df=pd.DataFrame(params,index=[0]).T\n",
    "df.columns=['参数值']\n",
    "df.head(100)"
   ]
  },
  {
   "cell_type": "markdown",
   "metadata": {},
   "source": [
    "#### 四、执行接口"
   ]
  },
  {
   "cell_type": "code",
   "execution_count": 11,
   "metadata": {},
   "outputs": [
    {
     "name": "stdout",
     "output_type": "stream",
     "text": [
      "\u001b[34m[GET请求执行完成] --> http://test.mediportal.com.cn/open-api/drugorg/crm/open/queryCompanyCustomerData?companyId=5799a1a7b522255a923b4716&timeStamp=0&pageIndex=1&pageSize=100&appKey=3b00bfb4c77b41e9b7d6eec2180855c6&nonce=cvcw2lw4i726zotl&time=1527520791566&sign=238543336eb6177f60e54829042a7307\n"
     ]
    }
   ],
   "source": [
    "import requests\n",
    "if interface['method'] == 'GET':\n",
    "    r = requests.get('http://' + server + interface['url'],params=params)\n",
    "    print(Fore.BLUE+'[%s请求执行完成] --> %s' % (interface['method'],r.url))\n",
    "elif interface['method'] == 'POST':\n",
    "    if interface.get('body',False):\n",
    "        r = requests.post('http://' + server + interface['url'],params=params,data=data)\n",
    "    else:\n",
    "        r = requests.post('http://' + server + interface['url'],params=params)\n",
    "    print(Fore.BLUE+'[%s请求执行完成] --> %s' % (interface['method'],r.url))\n",
    "else:\n",
    "    print(Fore.BLUE+'[%s接口方法填写错误，请求未执行]' % interface['method'])"
   ]
  },
  {
   "cell_type": "markdown",
   "metadata": {},
   "source": [
    "#### 五、输出数据查询"
   ]
  },
  {
   "cell_type": "code",
   "execution_count": 12,
   "metadata": {},
   "outputs": [
    {
     "name": "stdout",
     "output_type": "stream",
     "text": [
      "\u001b[34m[请求成功]\n",
      "\u001b[34m最前5条数据：\n"
     ]
    },
    {
     "data": {
      "text/html": [
       "<div>\n",
       "<style scoped>\n",
       "    .dataframe tbody tr th:only-of-type {\n",
       "        vertical-align: middle;\n",
       "    }\n",
       "\n",
       "    .dataframe tbody tr th {\n",
       "        vertical-align: top;\n",
       "    }\n",
       "\n",
       "    .dataframe thead th {\n",
       "        text-align: right;\n",
       "    }\n",
       "</style>\n",
       "<table border=\"1\" class=\"dataframe\">\n",
       "  <thead>\n",
       "    <tr style=\"text-align: right;\">\n",
       "      <th></th>\n",
       "    </tr>\n",
       "  </thead>\n",
       "  <tbody>\n",
       "  </tbody>\n",
       "</table>\n",
       "</div>"
      ],
      "text/plain": [
       "Empty DataFrame\n",
       "Columns: []\n",
       "Index: []"
      ]
     },
     "execution_count": 12,
     "metadata": {},
     "output_type": "execute_result"
    }
   ],
   "source": [
    "import json\n",
    "output = json.loads(r.text)\n",
    "resultCode = output['resultCode']\n",
    "if resultCode == 1:\n",
    "    print(Fore.BLUE+'[请求成功]')\n",
    "    for field in interface['output']:\n",
    "        output = output[field]\n",
    "    df=pd.DataFrame(output)\n",
    "else:\n",
    "    print(Fore.BLUE+output['请求失败：%s' % output['resultMsg']])\n",
    "    pass\n",
    "print(Fore.BLUE+'最前5条数据：')\n",
    "df.head(5)"
   ]
  },
  {
   "cell_type": "code",
   "execution_count": 13,
   "metadata": {},
   "outputs": [
    {
     "name": "stdout",
     "output_type": "stream",
     "text": [
      "\u001b[34m最后5条数据：\n"
     ]
    },
    {
     "data": {
      "text/html": [
       "<div>\n",
       "<style scoped>\n",
       "    .dataframe tbody tr th:only-of-type {\n",
       "        vertical-align: middle;\n",
       "    }\n",
       "\n",
       "    .dataframe tbody tr th {\n",
       "        vertical-align: top;\n",
       "    }\n",
       "\n",
       "    .dataframe thead th {\n",
       "        text-align: right;\n",
       "    }\n",
       "</style>\n",
       "<table border=\"1\" class=\"dataframe\">\n",
       "  <thead>\n",
       "    <tr style=\"text-align: right;\">\n",
       "      <th></th>\n",
       "    </tr>\n",
       "  </thead>\n",
       "  <tbody>\n",
       "  </tbody>\n",
       "</table>\n",
       "</div>"
      ],
      "text/plain": [
       "Empty DataFrame\n",
       "Columns: []\n",
       "Index: []"
      ]
     },
     "execution_count": 13,
     "metadata": {},
     "output_type": "execute_result"
    }
   ],
   "source": [
    "if resultCode == 1:\n",
    "    pass\n",
    "print(Fore.BLUE+'最后5条数据：')\n",
    "df.tail(5)"
   ]
  }
 ],
 "metadata": {
  "kernelspec": {
   "display_name": "Python 3",
   "language": "python",
   "name": "python3"
  },
  "language_info": {
   "codemirror_mode": {
    "name": "ipython",
    "version": 3
   },
   "file_extension": ".py",
   "mimetype": "text/x-python",
   "name": "python",
   "nbconvert_exporter": "python",
   "pygments_lexer": "ipython3",
   "version": "3.6.4"
  }
 },
 "nbformat": 4,
 "nbformat_minor": 2
}
